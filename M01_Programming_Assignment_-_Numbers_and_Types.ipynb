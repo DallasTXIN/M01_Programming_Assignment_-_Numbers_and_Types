{
 "cells": [
  {
   "cell_type": "code",
   "execution_count": null,
   "id": "0363128f",
   "metadata": {},
   "outputs": [],
   "source": [
    "#Seconds in an hour\n",
    "second = 1000\n",
    "minute = 60\n",
    "hour = 60\n",
    "\n",
    "seconds_per_hour = minute * hour\n",
    "seconds_per_day = seconds_per_hour * 24\n",
    "total_hours = seconds_per_day / seconds_per_hour\n",
    "other_total_hours = seconds_per_day // seconds_per_hour\n",
    "\n",
    "print(total_hours)\n",
    "print(other_total_hours)\n",
    "print(seconds_per_day)\n",
    "print(seconds_per_hour)\n",
    "print(second)\n",
    "print(minute)\n",
    "print(hour)"
   ]
  }
 ],
 "metadata": {
  "kernelspec": {
   "display_name": "Python 3 (ipykernel)",
   "language": "python",
   "name": "python3"
  },
  "language_info": {
   "codemirror_mode": {
    "name": "ipython",
    "version": 3
   },
   "file_extension": ".py",
   "mimetype": "text/x-python",
   "name": "python",
   "nbconvert_exporter": "python",
   "pygments_lexer": "ipython3",
   "version": "3.9.13"
  }
 },
 "nbformat": 4,
 "nbformat_minor": 5
}
